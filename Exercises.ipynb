{
 "cells": [
  {
   "cell_type": "code",
   "execution_count": null,
   "id": "e5adc5cc",
   "metadata": {},
   "outputs": [],
   "source": [
    "#Based on the video series Automate the Boring Stuff for Python \n",
    "#https://www.youtube.com/playlist?list=PLiEts138s9P0aG6soKBoMsmJrwIOPXoXR\n",
    "\n",
    "#** Means that I can add things to the program\n",
    "#*** Means I need to fix it"
   ]
  },
  {
   "cell_type": "code",
   "execution_count": 4,
   "id": "05e32a1c",
   "metadata": {},
   "outputs": [
    {
     "name": "stdout",
     "output_type": "stream",
     "text": [
      "Greeting\n"
     ]
    }
   ],
   "source": [
    "#Chapter 2 exercise\n",
    "spam = \"hi\"\n",
    "\n",
    "if spam == 1:\n",
    "    print(\"Hello\")\n",
    "elif spam == 2:\n",
    "    print(\"Howdy\")\n",
    "else:\n",
    "    print(\"Greetings\")"
   ]
  },
  {
   "cell_type": "code",
   "execution_count": 19,
   "id": "5c1e1eda",
   "metadata": {},
   "outputs": [
    {
     "name": "stdout",
     "output_type": "stream",
     "text": [
      "Input a number: hjbfdkj\n",
      "Invalid Input\n"
     ]
    }
   ],
   "source": [
    "#Chapter 3 exercise\n",
    "def collatz(number):\n",
    "    if number % 2 == 0:\n",
    "        new = number // 2\n",
    "        return new \n",
    "    else:\n",
    "        new = (3 * number) +1\n",
    "        return new \n",
    "try:\n",
    "    user = int(input(\"Input a number: \"))\n",
    "    num = collatz(user)\n",
    "    print(num)\n",
    "\n",
    "    while num != 1:\n",
    "        num = collatz(num)\n",
    "        print(num)\n",
    "except ValueError:\n",
    "        print('Invalid Input')"
   ]
  },
  {
   "cell_type": "code",
   "execution_count": 29,
   "id": "aae88a0d",
   "metadata": {},
   "outputs": [
    {
     "name": "stdout",
     "output_type": "stream",
     "text": [
      "a, and b"
     ]
    }
   ],
   "source": [
    "#Comma Code Chapter 4\n",
    "\n",
    "spam = ['a', 'b']\n",
    "\n",
    "if spam == []:\n",
    "    print('No list found')\n",
    "else:\n",
    "    for i in spam:\n",
    "        if spam.index(i) == len(spam) - 2:\n",
    "            print(i + ', and ', end ='')\n",
    "        elif spam.index(i) == len(spam) -1:\n",
    "            print(i, end ='')\n",
    "        else:\n",
    "            print(i +', ', end ='')\n",
    "        "
   ]
  },
  {
   "cell_type": "code",
   "execution_count": 47,
   "id": "81485afa",
   "metadata": {},
   "outputs": [
    {
     "name": "stdout",
     "output_type": "stream",
     "text": [
      "Chance of streak: 0.48%\n"
     ]
    }
   ],
   "source": [
    "#COIN FLIP, number is off ***\n",
    "\n",
    "import random\n",
    "numberOfStreaks = 0\n",
    "for experimentNumber in range(10000):\n",
    "    #Tails = 0, Heads = 1\n",
    "    flips = []\n",
    "    for i in range(100):\n",
    "        flips.append(random.randint(0,1))\n",
    "    # Code that creates a list of 100 'heads' or 'tails' values.\n",
    "\n",
    "    # Code that checks if there is a streak of 6 heads or tails in a row.\n",
    "    streaks = 0\n",
    "    for i in flips:\n",
    "        if flips.index(i) == 99:\n",
    "            continue\n",
    "        elif i == flips[flips.index(i)+1]:\n",
    "            streaks+=1\n",
    "        else:\n",
    "            streaks = 0\n",
    "    if streaks == 6:\n",
    "        numberOfStreaks+=1\n",
    "        streaks = 0\n",
    "        \n",
    "print('Chance of streak: %s%%' % (numberOfStreaks / 100))"
   ]
  },
  {
   "cell_type": "code",
   "execution_count": 70,
   "id": "b9ab94db",
   "metadata": {},
   "outputs": [
    {
     "name": "stdout",
     "output_type": "stream",
     "text": [
      "..OO.OO..\n",
      ".OOOOOOO.\n",
      ".OOOOOOO.\n",
      "..OOOOO..\n",
      "...OOO...\n",
      "....O....\n"
     ]
    }
   ],
   "source": [
    "#Picture Grid\n",
    "\n",
    "grid = [['.', '.', '.', '.', '.', '.'],\n",
    "        ['.', 'O', 'O', '.', '.', '.'],\n",
    "        ['O', 'O', 'O', 'O', '.', '.'],\n",
    "        ['O', 'O', 'O', 'O', 'O', '.'],\n",
    "        ['.', 'O', 'O', 'O', 'O', 'O'],\n",
    "        ['O', 'O', 'O', 'O', 'O', '.'],\n",
    "        ['O', 'O', 'O', 'O', '.', '.'],\n",
    "        ['.', 'O', 'O', '.', '.', '.'],\n",
    "        ['.', '.', '.', '.', '.', '.']]\n",
    "\n",
    "\n",
    "for i in range(6):\n",
    "    for j in range(9):\n",
    "        print(grid[j][i],end='')\n",
    "    print()\n"
   ]
  },
  {
   "cell_type": "code",
   "execution_count": 30,
   "id": "03c865cd",
   "metadata": {},
   "outputs": [
    {
     "name": "stdout",
     "output_type": "stream",
     "text": [
      "True\n"
     ]
    }
   ],
   "source": [
    "#Chapter 5 \n",
    "#Chess Dictionary\n",
    "\n",
    "def isValidChessBoard(dictionary):\n",
    "    count = {}\n",
    "    validspaces = ['1a', '1b', '1c', '1d', '1e', '1f', '1g','1h',\n",
    "                   '2a', '2b', '2c', '2d', '2e', '2f', '2g','2h',\n",
    "                   '3a', '3b', '3c', '3d', '3e', '3f', '3g','3h',\n",
    "                   '4a', '4b', '4c', '4d', '4e', '4f', '4g','4h',\n",
    "                   '5a', '5b', '5c', '5d', '5e', '5f', '5g','5h',\n",
    "                   '6a', '6b', '6c', '6d', '6e', '6f', '6g','6h',\n",
    "                   '7a', '7b', '7c', '7d', '7e', '7f', '7g','7h',\n",
    "                   '8a', '8b', '8c', '8d', '8e', '8f', '8g','8h']\n",
    "    for k, v in dictionary.items():\n",
    "        if k not in validspaces:\n",
    "            print(\"Invalid space: \" + k)\n",
    "            return False\n",
    "        else:\n",
    "            count.setdefault(v, 0)\n",
    "            count[v] = count[v] + 1\n",
    "    if count['bking'] == 1 and count['wking'] == 1:\n",
    "        if (count['wpawn'] <= 8 and count['bpawn'] <= 8) and (count['wpawn'] + count['bpawn'] <= 16):\n",
    "            return True\n",
    "        else:\n",
    "            print(\"Pawns don't add up\")\n",
    "            return False\n",
    "    else:\n",
    "        print(\"Missing King\")\n",
    "        return False\n",
    "\n",
    "chessboard = {'1h': 'bking', '6c': 'wqueen', '2g': 'bbishop', '5h': 'bqueen', '4e': 'wking', '3e': 'wpawn', '3c':'wpawn', '2c':'bpawn'}\n",
    "\n",
    "print(isValidChessBoard(chessboard))\n",
    "\n",
    "#Future iterations: Add a space validation to make sure two pieces aren't on the same space (May already through an error)"
   ]
  },
  {
   "cell_type": "code",
   "execution_count": 48,
   "id": "0327c84d",
   "metadata": {},
   "outputs": [
    {
     "name": "stdout",
     "output_type": "stream",
     "text": [
      "Inventory:\n",
      "\n",
      "45:gold coin\n",
      "1:rope\n",
      "1:dagger\n",
      "1:ruby\n",
      "\n",
      "Total items:48\n"
     ]
    }
   ],
   "source": [
    "#Chapter 5 \n",
    "#Fantasy Game Inventory\n",
    "def displayInventory(inventory): \n",
    "    print('Inventory:')\n",
    "    print()\n",
    "    total=0\n",
    "    for k,v in inventory.items():\n",
    "        total += v\n",
    "        print(str(v) + ':' + str(k))\n",
    "    print()\n",
    "    print('Total items:' + str(total))\n",
    "        \n",
    "stuff = {'rope': 1, 'torch': 6, 'gold coin': 42, 'dagger': 1, 'arrow': 12}\n",
    "\n",
    "#print(displayInventory(stuff))\n",
    "\n",
    "def addToInventory(inventory, addedItems):\n",
    "    for i in addedItems:\n",
    "        inventory.setdefault(i,0)\n",
    "        inventory[i] += 1\n",
    "    return inventory\n",
    "\n",
    "inv = {'gold coin': 42, 'rope': 1}\n",
    "dragonLoot = ['gold coin', 'dagger', 'gold coin', 'gold coin', 'ruby']\n",
    "inv = addToInventory(inv, dragonLoot)\n",
    "displayInventory(inv)"
   ]
  },
  {
   "cell_type": "code",
   "execution_count": 37,
   "id": "f1e33a2f",
   "metadata": {},
   "outputs": [
    {
     "name": "stdout",
     "output_type": "stream",
     "text": [
      "  apples   Alice    dogs\n",
      " oranges     Bob    cats\n",
      "cherries   Carol   moose\n",
      "  banana   David   goose\n"
     ]
    }
   ],
   "source": [
    "#Chpater 6\n",
    "def printTable(table):\n",
    "    longest = 0\n",
    "    for i in range(len(table[0])):\n",
    "        for j in range(len(table)):\n",
    "            if len(table[j][i]) > 0:\n",
    "                longest = len(table[j][i])\n",
    "    \n",
    "    for i in range(len(table[0])):\n",
    "        for j in range(len(table)):\n",
    "            print(table[j][i].rjust(longest + 3), end='')\n",
    "        print()\n",
    "    \n",
    "\n",
    "\n",
    "tableData = [['apples', 'oranges', 'cherries', 'banana'],\n",
    "             ['Alice', 'Bob', 'Carol', 'David'],\n",
    "             ['dogs', 'cats', 'moose', 'goose']]\n",
    "\n",
    "printTable(tableData)"
   ]
  },
  {
   "cell_type": "code",
   "execution_count": 8,
   "id": "d5e33651",
   "metadata": {},
   "outputs": [
    {
     "data": {
      "text/plain": [
       "4"
      ]
     },
     "execution_count": 8,
     "metadata": {},
     "output_type": "execute_result"
    }
   ],
   "source": [
    "#Zombie Dice - Didn't even start ***\n",
    "import zombiedice\n",
    "\n",
    "class MyZombie:\n",
    "    def __init__(self, name):\n",
    "        # All zombies must have a name:\n",
    "        self.name = name\n",
    "\n",
    "    def turn(self, gameState):\n",
    "        # gameState is a dict with info about the current state of the game.\n",
    "        # You can choose to ignore it in your code.\n",
    "\n",
    "        diceRollResults = zombiedice.roll() # first roll\n",
    "        # roll() returns a dictionary with keys 'brains', 'shotgun', and\n",
    "        # 'footsteps' with how many rolls of each type there were.\n",
    "        # The 'rolls' key is a list of (color, icon) tuples with the\n",
    "        # exact roll result information.\n",
    "        # Example of a roll() return value:\n",
    "        # {'brains': 1, 'footsteps': 1, 'shotgun': 1,\n",
    "        #  'rolls': [('yellow', 'brains'), ('red', 'footsteps'),\n",
    "        #            ('green', 'shotgun')]}\n",
    "\n",
    "        # REPLACE THIS ZOMBIE CODE WITH YOUR OWN:\n",
    "        brains = 0\n",
    "        while diceRollResults is not None:\n",
    "            brains += diceRollResults['brains']\n",
    "\n",
    "            if brains < 2:\n",
    "                diceRollResults = zombiedice.roll() # roll again\n",
    "            else:\n",
    "                break\n",
    "\n",
    "\n",
    "\n",
    "zombies = (\n",
    "    zombiedice.examples.RandomCoinFlipZombie(name='Random'),\n",
    "    zombiedice.examples.RollsUntilInTheLeadZombie(name='Until Leading'),\n",
    "    zombiedice.examples.MinNumShotgunsThenStopsZombie(name='Until 2 Shotguns', minShotguns=2),\n",
    "    zombiedice.examples.MinNumShotgunsThenStopsZombie(name='Until 1 Shotgun', minShotguns=1),\n",
    "    MyZombie(name='My Zombie Bot'),\n",
    "    # Add any other zombie players here.\n",
    ")\n",
    "\n",
    "# Uncomment one of the following lines to run in CLI or Web GUI mode:\n",
    "#zombiedice.runTournament(zombies=zombies, numGames=1000)\n",
    "zombiedice.runWebGui(zombies=zombies, numGames=1000)"
   ]
  },
  {
   "cell_type": "code",
   "execution_count": 2,
   "id": "f87a85a3",
   "metadata": {},
   "outputs": [
    {
     "name": "stdout",
     "output_type": "stream",
     "text": [
      "False\n"
     ]
    }
   ],
   "source": [
    "#Date Detection Chapter 7\n",
    "\n",
    "import re\n",
    "\n",
    "def validDate(date):\n",
    "    \n",
    "    dateregex = re.compile(r'([0-3][0-9])/([0-1][0-9])/([0-2][0-9]{3})')\n",
    "\n",
    "    mo = dateregex.search(date)\n",
    "\n",
    "\n",
    "    day = int(mo.group(1))\n",
    "    month = int(mo.group(2))\n",
    "    year = int(mo.group(3))\n",
    "\n",
    "    day30 = [4,6,9,11]\n",
    "\n",
    "    if month == 2:\n",
    "        if year % 4 == 0:\n",
    "            if day <= 29:\n",
    "                return True\n",
    "            else:\n",
    "                return False\n",
    "        else:\n",
    "            if day <=28:\n",
    "                return True\n",
    "            else:\n",
    "                return False\n",
    "    if month in day30:\n",
    "        if day <= 30:\n",
    "            return True\n",
    "        else: \n",
    "            return False\n",
    "    if month not in day30:\n",
    "        if day <= 31:\n",
    "            return True\n",
    "        else:\n",
    "            return False\n",
    "\n",
    "\n",
    "test = 'I want to go the cinema on 29/02/2021'\n",
    "print(validDate(test))"
   ]
  },
  {
   "cell_type": "code",
   "execution_count": 85,
   "id": "1ba4c318",
   "metadata": {},
   "outputs": [
    {
     "name": "stdout",
     "output_type": "stream",
     "text": [
      "Not strong / Unexpected Character\n"
     ]
    }
   ],
   "source": [
    "#Strong Password detection\n",
    "\n",
    "password = re.compile(r'\\w{5,}?[a-z]+[A-Z]+\\d+') #At least one upper, one lower, one digit and at least 8 long\n",
    "\n",
    "mo = password.search('ThisIsStrong78')\n",
    "\n",
    "try:\n",
    "    if mo.group() == None:\n",
    "        print('Not strong enough')\n",
    "    else:\n",
    "        print(\"strong\")\n",
    "except:\n",
    "    print(\"Not strong / Unexpected Character\")"
   ]
  },
  {
   "cell_type": "code",
   "execution_count": 12,
   "id": "ce51ea9d",
   "metadata": {},
   "outputs": [
    {
     "name": "stdout",
     "output_type": "stream",
     "text": [
      "Yo lemme test\n"
     ]
    }
   ],
   "source": [
    "#My version of python strip\n",
    "\n",
    "def myOwnStrip(value, strp = ' '):\n",
    "    stripper = re.compile(r'(\\s*)(.*)(\\s*)')  #Removes whitespace\n",
    "    #stripper = re.compile(rf'({strp})*(.*)({strp})*')\n",
    "    mo = stripper.search(value)\n",
    "    if strp != ' ': #In the case that it's not white space\n",
    "        strpr2 = re.compile(rf'\\s+{strp}$') \n",
    "        mo2 = strpr2.sub('', mo.group(0)) #replace the regex with ''\n",
    "        return mo2\n",
    "    else:\n",
    "        if mo.group() == None:\n",
    "            return False\n",
    "        else:\n",
    "            return mo.group(2)\n",
    "\n",
    "print(myOwnStrip( 'Yo lemme test this', 'this'))\n",
    "\n"
   ]
  },
  {
   "cell_type": "code",
   "execution_count": null,
   "id": "08979a0a",
   "metadata": {},
   "outputs": [],
   "source": [
    "\n",
    "#Chapter 8 \n",
    "#Sandwich Maker\n",
    "\n",
    "import pyinputplus as pyip\n",
    "\n",
    "\n",
    "print(\"Menu\".center(20,'*'))\n",
    "print(\n",
    "\"\"\"\n",
    "*Bread*\n",
    "- Wheat       -  $3\n",
    "- White       -  $4\n",
    "- Sourdough   -  $7\n",
    "*Protein*\n",
    "- Chicken     -  $4\n",
    "- Turkey      -  $5\n",
    "- Ham         -  $5\n",
    "- Tofu        -  $8\n",
    "*Cheese*\n",
    "- Swiss       -  $2\n",
    "- cheddar     -  $2\n",
    "- Mozzarella  -  $3\n",
    "\n",
    "Mayo, Mustard, Lettuce, Tomato: FREE\n",
    "\"\"\"\n",
    ")\n",
    "done = False\n",
    "total = 0\n",
    "sum = []\n",
    "\n",
    "prices = {'wheat':3, 'white':4, 'sourdough':7, 'chicken':4, 'turkey':5, 'ham':5, 'tofu':8, 'Swiss':2, 'cheddar':2, 'mozzarella':3}\n",
    "amount = pyip.inputInt(min=1, prompt='How many sandwiches would you like?\\n')\n",
    "finish = 'no'\n",
    "\n",
    "while finish != 'yes':\n",
    "    for a in range(amount+1):\n",
    "        bread = pyip.inputMenu(['wheat', 'white', 'sourdough'], prompt='What type of bread would you like?\\n' ) \n",
    "        total+= prices[bread]\n",
    "        print()\n",
    "        protein = pyip.inputMenu(['chicken', 'turkey', 'ham', 'tofu'], prompt='What protein option would you like?\\n')\n",
    "        total+= prices[protein]\n",
    "        print()\n",
    "        cheeseYN = pyip.inputYesNo(prompt='Would you like cheese?')\n",
    "        print()\n",
    "        if cheeseYN == 'yes':\n",
    "            cheese = pyip.inputMenu(['cheddar', 'Swiss', 'mozzarella'], prompt='Which type of cheese would you like?\\n')\n",
    "            total+= prices[cheese]\n",
    "        else:\n",
    "            cheese = 'N/A'\n",
    "        print()\n",
    "        mayo = pyip.inputYesNo(prompt='Mayo?\\n')\n",
    "        print()\n",
    "        mustard = pyip.inputYesNo(prompt='Mustard?\\n')\n",
    "        print()\n",
    "        lettuce = pyip.inputYesNo(prompt='Lettuce?\\n')\n",
    "        print()\n",
    "        tomato = pyip.inputYesNo(prompt='Tomato?\\n')\n",
    "        print()\n",
    "        print(f\"\"\"Just to confirm you would like:\n",
    "        Bread: {bread}\n",
    "        Protein: {protein}\n",
    "        Cheese?: {cheeseYN}\n",
    "        Cheese Type: {cheese}\n",
    "        Mayo: {mayo}\n",
    "        Mustard: {mustard}\n",
    "        Lettuce: {lettuce}\n",
    "        Tomato: {tomato}\n",
    "        \"\"\")\n",
    "        sum.append(total)\n",
    "        finish = pyip.inputYesNo(prompt='Is that all? (This will go to checkout)\\n')\n",
    "        if finish == 'yes':\n",
    "            break\n",
    "        else:\n",
    "            new = pyip.inputYesNo(prompt='Would you like a new sandwich?\\n')\n",
    "            if new == 'yes':\n",
    "                continue\n",
    "            else:\n",
    "                amount += amount\n",
    "                continue\n",
    "        finish = 'yes'\n",
    "\n",
    "    \n",
    "for i in sum:\n",
    "    print('Sandwich ' + str(sum.index(i) + 1) + ':' + str(i))\n"
   ]
  },
  {
   "cell_type": "code",
   "execution_count": 31,
   "id": "53e4485a",
   "metadata": {},
   "outputs": [],
   "source": [
    "from pathlib import Path\n",
    "Path.cwd()\n",
    "\n",
    "p = Path.cwd() / Path('spam.txt')\n",
    "#p.mkdir()\n",
    "p.write_text('Hello World')\n",
    "\n",
    "hellofile = open(p)\n",
    "hellocontent = hellofile.read()\n",
    "hellocontent\n",
    "hellofile.close()"
   ]
  },
  {
   "cell_type": "code",
   "execution_count": null,
   "id": "8b808e47",
   "metadata": {},
   "outputs": [],
   "source": [
    "#Extended Multi Clipboard\n"
   ]
  },
  {
   "cell_type": "code",
   "execution_count": 39,
   "id": "52001c02",
   "metadata": {},
   "outputs": [
    {
     "name": "stdout",
     "output_type": "stream",
     "text": [
      "Here is the sentence: After a long day of [verb1] , the [adjective 1] [noun1] enjoys a/an [adjective2] [noun2] while [adverb] [verb2] near the [place]\n",
      "Verb 1:\n",
      "working\n",
      "Adjective:\n",
      "silly\n",
      "Noun 1:\n",
      "panda\n",
      "Adverb:\n",
      "simply\n",
      "Verb 2:\n",
      "smokes\n",
      "Place 1:\n",
      "port\n",
      "Here is your sentence:\n",
      "After a long day working , the silly panda enjoys a/an fun afternoon while simply smokes near the port.\n",
      " This is a new line\n"
     ]
    }
   ],
   "source": [
    "#Mad libs\n",
    "#Possible improvements: Show each time you enter a word\n",
    "mad = Path.cwd() / Path('madlibs.txt')\n",
    "print(\"Here is the sentence: After a long day of [verb1] , the [adjective 1] [noun1] enjoys a/an [adjective2] [noun2] while [adverb] [verb2] near the [place]\")\n",
    "\n",
    "verb1 = input(\"Verb 1:\\n\")\n",
    "adjective1 = input(\"Adjective:\\n\")\n",
    "noun1 = input(\"Noun 1:\\n\")\n",
    "#adjective2 = input(\"Adjective 2:\\n\")\n",
    "#noun2 = input(\"Noun 2:\\n\")\n",
    "adverb = input(\"Adverb:\\n\")\n",
    "verb2 = input(\"Verb 2:\\n\")\n",
    "place = input(\"Place 1:\\n\")\n",
    "\n",
    "#Opening the file\n",
    "mad_file = open(mad,'w')\n",
    "mad_file.write(f'After a long day {verb1} , the {adjective1} {noun1} enjoys a/an fun afternoon while {adverb} {verb2} near the {place}.\\n This is a new line')\n",
    "mad_file.close()\n",
    "\n",
    "#Reading the file\n",
    "mad_file_r = open(mad, 'r')\n",
    "mad_contents = mad_file_r.read()\n",
    "mad_file.close()\n",
    "\n",
    "\n",
    "print('Here is your sentence:\\n' + mad_contents)"
   ]
  },
  {
   "cell_type": "code",
   "execution_count": 40,
   "id": "79d7401d",
   "metadata": {},
   "outputs": [
    {
     "name": "stdout",
     "output_type": "stream",
     "text": [
      "After a long day working , the silly panda enjoys a/an fun afternoon while simply smokes near the port.\n",
      " This is a new line\n",
      "Found in: madlibs.txt\n"
     ]
    }
   ],
   "source": [
    "keyword = re.compile('panda')\n",
    "files = []\n",
    "\n",
    "for j in list(Path.cwd().glob('*.txt')):\n",
    "    f = open(j, 'r')\n",
    "    contents = f.read()\n",
    "    mo = keyword.search(contents)\n",
    "    try:\n",
    "        if mo.group() != None:\n",
    "            print(contents)\n",
    "            print(\"Found in: \" + j.name)\n",
    "    except:\n",
    "        continue\n",
    "            \n",
    "\n"
   ]
  },
  {
   "cell_type": "code",
   "execution_count": 36,
   "id": "8071bc10",
   "metadata": {},
   "outputs": [
    {
     "name": "stdout",
     "output_type": "stream",
     "text": [
      "spam.txt\n",
      "madlibs.txt\n"
     ]
    }
   ],
   "source": [
    "#Chapter 10 Exercises held off"
   ]
  },
  {
   "cell_type": "code",
   "execution_count": 8,
   "id": "da6ab762",
   "metadata": {},
   "outputs": [
    {
     "name": "stdout",
     "output_type": "stream",
     "text": [
      "Guess the coin toss! Enter heads or tails:\n"
     ]
    },
    {
     "ename": "KeyboardInterrupt",
     "evalue": "Interrupted by user",
     "output_type": "error",
     "traceback": [
      "\u001b[0;31m---------------------------------------------------------------------------\u001b[0m",
      "\u001b[0;31mKeyboardInterrupt\u001b[0m                         Traceback (most recent call last)",
      "\u001b[0;32m/var/folders/hv/lh26yv0n4xn5t1pvckq365c00000gn/T/ipykernel_40354/2164741997.py\u001b[0m in \u001b[0;36m<module>\u001b[0;34m\u001b[0m\n\u001b[1;32m      5\u001b[0m \u001b[0;32mwhile\u001b[0m \u001b[0mguess\u001b[0m \u001b[0;32mnot\u001b[0m \u001b[0;32min\u001b[0m \u001b[0;34m(\u001b[0m\u001b[0;34m'heads'\u001b[0m\u001b[0;34m,\u001b[0m \u001b[0;34m'tails'\u001b[0m\u001b[0;34m)\u001b[0m\u001b[0;34m:\u001b[0m\u001b[0;34m\u001b[0m\u001b[0;34m\u001b[0m\u001b[0m\n\u001b[1;32m      6\u001b[0m     \u001b[0mprint\u001b[0m\u001b[0;34m(\u001b[0m\u001b[0;34m'Guess the coin toss! Enter heads or tails:'\u001b[0m\u001b[0;34m)\u001b[0m\u001b[0;34m\u001b[0m\u001b[0;34m\u001b[0m\u001b[0m\n\u001b[0;32m----> 7\u001b[0;31m     \u001b[0mguess\u001b[0m \u001b[0;34m=\u001b[0m \u001b[0minput\u001b[0m\u001b[0;34m(\u001b[0m\u001b[0;34m)\u001b[0m\u001b[0;34m\u001b[0m\u001b[0;34m\u001b[0m\u001b[0m\n\u001b[0m\u001b[1;32m      8\u001b[0m \u001b[0mtoss\u001b[0m \u001b[0;34m=\u001b[0m \u001b[0mrandom\u001b[0m\u001b[0;34m.\u001b[0m\u001b[0mrandint\u001b[0m\u001b[0;34m(\u001b[0m\u001b[0;36m0\u001b[0m\u001b[0;34m,\u001b[0m \u001b[0;36m1\u001b[0m\u001b[0;34m)\u001b[0m \u001b[0;31m# 0 is tails, 1 is heads\u001b[0m\u001b[0;34m\u001b[0m\u001b[0;34m\u001b[0m\u001b[0m\n\u001b[1;32m      9\u001b[0m \u001b[0;32mif\u001b[0m \u001b[0mtoss\u001b[0m \u001b[0;34m==\u001b[0m \u001b[0mguess\u001b[0m\u001b[0;34m:\u001b[0m\u001b[0;34m\u001b[0m\u001b[0;34m\u001b[0m\u001b[0m\n",
      "\u001b[0;32m~/opt/anaconda3/lib/python3.9/site-packages/ipykernel/kernelbase.py\u001b[0m in \u001b[0;36mraw_input\u001b[0;34m(self, prompt)\u001b[0m\n\u001b[1;32m   1175\u001b[0m                 \u001b[0;34m\"raw_input was called, but this frontend does not support input requests.\"\u001b[0m\u001b[0;34m\u001b[0m\u001b[0;34m\u001b[0m\u001b[0m\n\u001b[1;32m   1176\u001b[0m             )\n\u001b[0;32m-> 1177\u001b[0;31m         return self._input_request(\n\u001b[0m\u001b[1;32m   1178\u001b[0m             \u001b[0mstr\u001b[0m\u001b[0;34m(\u001b[0m\u001b[0mprompt\u001b[0m\u001b[0;34m)\u001b[0m\u001b[0;34m,\u001b[0m\u001b[0;34m\u001b[0m\u001b[0;34m\u001b[0m\u001b[0m\n\u001b[1;32m   1179\u001b[0m             \u001b[0mself\u001b[0m\u001b[0;34m.\u001b[0m\u001b[0m_parent_ident\u001b[0m\u001b[0;34m[\u001b[0m\u001b[0;34m\"shell\"\u001b[0m\u001b[0;34m]\u001b[0m\u001b[0;34m,\u001b[0m\u001b[0;34m\u001b[0m\u001b[0;34m\u001b[0m\u001b[0m\n",
      "\u001b[0;32m~/opt/anaconda3/lib/python3.9/site-packages/ipykernel/kernelbase.py\u001b[0m in \u001b[0;36m_input_request\u001b[0;34m(self, prompt, ident, parent, password)\u001b[0m\n\u001b[1;32m   1217\u001b[0m             \u001b[0;32mexcept\u001b[0m \u001b[0mKeyboardInterrupt\u001b[0m\u001b[0;34m:\u001b[0m\u001b[0;34m\u001b[0m\u001b[0;34m\u001b[0m\u001b[0m\n\u001b[1;32m   1218\u001b[0m                 \u001b[0;31m# re-raise KeyboardInterrupt, to truncate traceback\u001b[0m\u001b[0;34m\u001b[0m\u001b[0;34m\u001b[0m\u001b[0m\n\u001b[0;32m-> 1219\u001b[0;31m                 \u001b[0;32mraise\u001b[0m \u001b[0mKeyboardInterrupt\u001b[0m\u001b[0;34m(\u001b[0m\u001b[0;34m\"Interrupted by user\"\u001b[0m\u001b[0;34m)\u001b[0m \u001b[0;32mfrom\u001b[0m \u001b[0;32mNone\u001b[0m\u001b[0;34m\u001b[0m\u001b[0;34m\u001b[0m\u001b[0m\n\u001b[0m\u001b[1;32m   1220\u001b[0m             \u001b[0;32mexcept\u001b[0m \u001b[0mException\u001b[0m\u001b[0;34m:\u001b[0m\u001b[0;34m\u001b[0m\u001b[0;34m\u001b[0m\u001b[0m\n\u001b[1;32m   1221\u001b[0m                 \u001b[0mself\u001b[0m\u001b[0;34m.\u001b[0m\u001b[0mlog\u001b[0m\u001b[0;34m.\u001b[0m\u001b[0mwarning\u001b[0m\u001b[0;34m(\u001b[0m\u001b[0;34m\"Invalid Message:\"\u001b[0m\u001b[0;34m,\u001b[0m \u001b[0mexc_info\u001b[0m\u001b[0;34m=\u001b[0m\u001b[0;32mTrue\u001b[0m\u001b[0;34m)\u001b[0m\u001b[0;34m\u001b[0m\u001b[0;34m\u001b[0m\u001b[0m\n",
      "\u001b[0;31mKeyboardInterrupt\u001b[0m: Interrupted by user"
     ]
    }
   ],
   "source": [
    "#Chapter 11 Debug\n",
    "\n",
    "import random\n",
    "guess = ''\n",
    "while guess not in ('heads', 'tails'):\n",
    "    print('Guess the coin toss! Enter heads or tails:')\n",
    "    guess = input()\n",
    "toss = random.randint(0, 1) # 0 is tails, 1 is heads\n",
    "if toss == guess:\n",
    "    print('You got it!')\n",
    "else:\n",
    "    print('Nope! Guess again!')\n",
    "    guesss = input()\n",
    "    if toss == guess:\n",
    "        print('You got it!')\n",
    "    else:\n",
    "        print('Nope. You are really bad at this game.')\n",
    "        \n",
    "        \n",
    "\"\"\"\n",
    "Problems\n",
    "\n",
    "Line 13 guesss != guess so program uses old value and not new \n",
    "Heads and tails not converted to yes/no so user input will always be wrong\n",
    "No validation for second try\n",
    "Toss's value is not updated on second try so if guesss is fixed then the user knows if its not tails then its heads and vice versa\n",
    "\n",
    "\"\"\""
   ]
  },
  {
   "cell_type": "code",
   "execution_count": 4,
   "id": "a3f067f5",
   "metadata": {},
   "outputs": [
    {
     "name": "stdout",
     "output_type": "stream",
     "text": [
      "1\n",
      "0\n",
      "0\n",
      "1\n"
     ]
    }
   ],
   "source": [
    "print(random.randint(0, 1))\n",
    "print(random.randint(0, 1))\n",
    "print(random.randint(0, 1))\n",
    "print(random.randint(0, 1))"
   ]
  },
  {
   "cell_type": "code",
   "execution_count": 10,
   "id": "8018dd12",
   "metadata": {},
   "outputs": [
    {
     "data": {
      "text/plain": [
       "True"
      ]
     },
     "execution_count": 10,
     "metadata": {},
     "output_type": "execute_result"
    }
   ],
   "source": [
    "import webbrowser as wb\n",
    "\n",
    "wb.open('https://www.youtube.com/')"
   ]
  },
  {
   "cell_type": "code",
   "execution_count": 42,
   "id": "30bd6489",
   "metadata": {},
   "outputs": [],
   "source": [
    "#Command line emailer\n",
    "from selenium import webdriver\n",
    "from selenium.webdriver.common.keys import Keys\n",
    "from selenium.webdriver.common.by import By\n",
    "import requests, bs4\n",
    "import time\n",
    "\n",
    "sender_email = '2test4python@gmail.com'\n",
    "sender_password = 'hEInkAtERI'\n",
    "\n",
    "receiver = 'wocomon234@backva.com' #from temp email\n",
    "subject_text = 'Checking in'\n",
    "message = \"Yo what's good bro?\"\n",
    "\n",
    "browser = webdriver.Chrome()\n",
    "browser.get('https://mail.google.com/mail/')\n",
    "\n",
    "email_input = browser.find_element(By.CLASS_NAME, \"whsOnd.zHQkBf\")\n",
    "#print('Found <%s> element with that class name!' % (elem.tag_name))\n",
    "email_input.send_keys(sender_email)\n",
    "email_input.send_keys(Keys.ENTER)\n",
    "time.sleep(2)\n",
    "password_input = browser.find_element(By.CLASS_NAME, \"whsOnd.zHQkBf\")\n",
    "password_input.send_keys(sender_password)\n",
    "password_input.send_keys(Keys.ENTER)\n",
    "time.sleep(3)\n",
    "compose = browser.find_element(By.CLASS_NAME, \"T-I.T-I-KE.L3\")\n",
    "compose.click()\n",
    "time.sleep(2)\n",
    "to = browser.find_element(By.ID, \":bx\")\n",
    "to.send_keys(receiver)\n",
    "subject =  browser.find_element(By.ID, \":84\")\n",
    "subject.send_keys(subject_text)\n",
    "message_input = browser.find_element(By.ID, \":9d\")\n",
    "message_input.send_keys(message)\n",
    "time.sleep(2)\n",
    "send_button = browser.find_element(By.ID, \":7u\")\n",
    "send_button.click()\n",
    "\n",
    "#print('Was not able to find an element with that name.')\n",
    "\n",
    "#email_input = browser.find_element_by_jsname('YRMmle')\n",
    "#email_input.send_keys(sender_email)\n",
    "\n",
    "\n"
   ]
  },
  {
   "cell_type": "code",
   "execution_count": 42,
   "id": "b4ef2578",
   "metadata": {},
   "outputs": [
    {
     "name": "stdout",
     "output_type": "stream",
     "text": [
      "Done\n"
     ]
    }
   ],
   "source": [
    "#Image Site Downloader\n",
    "import bs4, os, requests\n",
    "\n",
    "search_request = 'cat'\n",
    "\n",
    "url = 'https://imgur.com/search?q=' + search_request\n",
    "os.makedirs('imgur', exist_ok=True)\n",
    "\n",
    "res = requests.get(url)\n",
    "res.raise_for_status()\n",
    "\n",
    "soup = bs4.BeautifulSoup(res.text, 'html.parser')\n",
    "div_w_cards = soup.select('div.cards > div > a > img')\n",
    "\n",
    "for i in range(3):\n",
    "    img = 'https:' + div_w_cards[i].get('src')\n",
    "    filename = search_request + str(i) + '.jpg'\n",
    "    file_path = '/Users/jvick/automate(LAST)/'\n",
    "    imageFile = open(os.path.join('/Users/jvick/automate(LAST)/imgur', filename), 'wb')        \n",
    "    imageFile.write(requests.get(img).content)\n",
    "    imageFile.close()\n",
    "                     \n",
    "print('Done')\n",
    "\n",
    "    \n",
    "\n",
    "\n"
   ]
  },
  {
   "cell_type": "code",
   "execution_count": 27,
   "id": "8a55ea6d",
   "metadata": {
    "scrolled": true
   },
   "outputs": [
    {
     "name": "stderr",
     "output_type": "stream",
     "text": [
      "The version of firefox cannot be detected. Trying with latest driver version\n"
     ]
    },
    {
     "ename": "InvalidArgumentException",
     "evalue": "Message: binary is not a Firefox executable\n",
     "output_type": "error",
     "traceback": [
      "\u001b[0;31m---------------------------------------------------------------------------\u001b[0m",
      "\u001b[0;31mInvalidArgumentException\u001b[0m                  Traceback (most recent call last)",
      "\u001b[0;32m/var/folders/hv/lh26yv0n4xn5t1pvckq365c00000gn/T/ipykernel_26746/2240061903.py\u001b[0m in \u001b[0;36m<module>\u001b[0;34m\u001b[0m\n\u001b[1;32m      4\u001b[0m \u001b[0;32mfrom\u001b[0m \u001b[0mselenium\u001b[0m\u001b[0;34m.\u001b[0m\u001b[0mwebdriver\u001b[0m\u001b[0;34m.\u001b[0m\u001b[0mcommon\u001b[0m\u001b[0;34m.\u001b[0m\u001b[0mkeys\u001b[0m \u001b[0;32mimport\u001b[0m \u001b[0mKeys\u001b[0m\u001b[0;34m\u001b[0m\u001b[0;34m\u001b[0m\u001b[0m\n\u001b[1;32m      5\u001b[0m \u001b[0;32mfrom\u001b[0m \u001b[0mselenium\u001b[0m\u001b[0;34m.\u001b[0m\u001b[0mwebdriver\u001b[0m\u001b[0;34m.\u001b[0m\u001b[0mcommon\u001b[0m\u001b[0;34m.\u001b[0m\u001b[0mby\u001b[0m \u001b[0;32mimport\u001b[0m \u001b[0mBy\u001b[0m\u001b[0;34m\u001b[0m\u001b[0;34m\u001b[0m\u001b[0m\n\u001b[0;32m----> 6\u001b[0;31m \u001b[0mbrowser\u001b[0m \u001b[0;34m=\u001b[0m \u001b[0mwebdriver\u001b[0m\u001b[0;34m.\u001b[0m\u001b[0mFirefox\u001b[0m\u001b[0;34m(\u001b[0m\u001b[0;34m)\u001b[0m\u001b[0;34m\u001b[0m\u001b[0;34m\u001b[0m\u001b[0m\n\u001b[0m\u001b[1;32m      7\u001b[0m \u001b[0mbrowser\u001b[0m\u001b[0;34m.\u001b[0m\u001b[0mget\u001b[0m\u001b[0;34m(\u001b[0m\u001b[0;34m'https://gabrielecirulli.github.io/2048/'\u001b[0m\u001b[0;34m)\u001b[0m\u001b[0;34m\u001b[0m\u001b[0;34m\u001b[0m\u001b[0m\n\u001b[1;32m      8\u001b[0m \u001b[0mhtmlElem\u001b[0m \u001b[0;34m=\u001b[0m \u001b[0mbrowser\u001b[0m\u001b[0;34m.\u001b[0m\u001b[0mfind_element\u001b[0m\u001b[0;34m(\u001b[0m\u001b[0mBy\u001b[0m\u001b[0;34m.\u001b[0m\u001b[0mTAG_NAME\u001b[0m\u001b[0;34m,\u001b[0m\u001b[0;34m'html'\u001b[0m\u001b[0;34m)\u001b[0m\u001b[0;34m\u001b[0m\u001b[0;34m\u001b[0m\u001b[0m\n",
      "\u001b[0;32m~/opt/anaconda3/lib/python3.9/site-packages/selenium/webdriver/firefox/webdriver.py\u001b[0m in \u001b[0;36m__init__\u001b[0;34m(self, options, service, keep_alive)\u001b[0m\n\u001b[1;32m     65\u001b[0m             \u001b[0mkeep_alive\u001b[0m\u001b[0;34m=\u001b[0m\u001b[0mkeep_alive\u001b[0m\u001b[0;34m,\u001b[0m\u001b[0;34m\u001b[0m\u001b[0;34m\u001b[0m\u001b[0m\n\u001b[1;32m     66\u001b[0m         )\n\u001b[0;32m---> 67\u001b[0;31m         \u001b[0msuper\u001b[0m\u001b[0;34m(\u001b[0m\u001b[0;34m)\u001b[0m\u001b[0;34m.\u001b[0m\u001b[0m__init__\u001b[0m\u001b[0;34m(\u001b[0m\u001b[0mcommand_executor\u001b[0m\u001b[0;34m=\u001b[0m\u001b[0mexecutor\u001b[0m\u001b[0;34m,\u001b[0m \u001b[0moptions\u001b[0m\u001b[0;34m=\u001b[0m\u001b[0moptions\u001b[0m\u001b[0;34m)\u001b[0m\u001b[0;34m\u001b[0m\u001b[0;34m\u001b[0m\u001b[0m\n\u001b[0m\u001b[1;32m     68\u001b[0m \u001b[0;34m\u001b[0m\u001b[0m\n\u001b[1;32m     69\u001b[0m         \u001b[0mself\u001b[0m\u001b[0;34m.\u001b[0m\u001b[0m_is_remote\u001b[0m \u001b[0;34m=\u001b[0m \u001b[0;32mFalse\u001b[0m\u001b[0;34m\u001b[0m\u001b[0;34m\u001b[0m\u001b[0m\n",
      "\u001b[0;32m~/opt/anaconda3/lib/python3.9/site-packages/selenium/webdriver/remote/webdriver.py\u001b[0m in \u001b[0;36m__init__\u001b[0;34m(self, command_executor, keep_alive, file_detector, options)\u001b[0m\n\u001b[1;32m    204\u001b[0m         \u001b[0mself\u001b[0m\u001b[0;34m.\u001b[0m\u001b[0m_authenticator_id\u001b[0m \u001b[0;34m=\u001b[0m \u001b[0;32mNone\u001b[0m\u001b[0;34m\u001b[0m\u001b[0;34m\u001b[0m\u001b[0m\n\u001b[1;32m    205\u001b[0m         \u001b[0mself\u001b[0m\u001b[0;34m.\u001b[0m\u001b[0mstart_client\u001b[0m\u001b[0;34m(\u001b[0m\u001b[0;34m)\u001b[0m\u001b[0;34m\u001b[0m\u001b[0;34m\u001b[0m\u001b[0m\n\u001b[0;32m--> 206\u001b[0;31m         \u001b[0mself\u001b[0m\u001b[0;34m.\u001b[0m\u001b[0mstart_session\u001b[0m\u001b[0;34m(\u001b[0m\u001b[0mcapabilities\u001b[0m\u001b[0;34m)\u001b[0m\u001b[0;34m\u001b[0m\u001b[0;34m\u001b[0m\u001b[0m\n\u001b[0m\u001b[1;32m    207\u001b[0m \u001b[0;34m\u001b[0m\u001b[0m\n\u001b[1;32m    208\u001b[0m     \u001b[0;32mdef\u001b[0m \u001b[0m__repr__\u001b[0m\u001b[0;34m(\u001b[0m\u001b[0mself\u001b[0m\u001b[0;34m)\u001b[0m\u001b[0;34m:\u001b[0m\u001b[0;34m\u001b[0m\u001b[0;34m\u001b[0m\u001b[0m\n",
      "\u001b[0;32m~/opt/anaconda3/lib/python3.9/site-packages/selenium/webdriver/remote/webdriver.py\u001b[0m in \u001b[0;36mstart_session\u001b[0;34m(self, capabilities)\u001b[0m\n\u001b[1;32m    288\u001b[0m \u001b[0;34m\u001b[0m\u001b[0m\n\u001b[1;32m    289\u001b[0m         \u001b[0mcaps\u001b[0m \u001b[0;34m=\u001b[0m \u001b[0m_create_caps\u001b[0m\u001b[0;34m(\u001b[0m\u001b[0mcapabilities\u001b[0m\u001b[0;34m)\u001b[0m\u001b[0;34m\u001b[0m\u001b[0;34m\u001b[0m\u001b[0m\n\u001b[0;32m--> 290\u001b[0;31m         \u001b[0mresponse\u001b[0m \u001b[0;34m=\u001b[0m \u001b[0mself\u001b[0m\u001b[0;34m.\u001b[0m\u001b[0mexecute\u001b[0m\u001b[0;34m(\u001b[0m\u001b[0mCommand\u001b[0m\u001b[0;34m.\u001b[0m\u001b[0mNEW_SESSION\u001b[0m\u001b[0;34m,\u001b[0m \u001b[0mcaps\u001b[0m\u001b[0;34m)\u001b[0m\u001b[0;34m[\u001b[0m\u001b[0;34m\"value\"\u001b[0m\u001b[0;34m]\u001b[0m\u001b[0;34m\u001b[0m\u001b[0;34m\u001b[0m\u001b[0m\n\u001b[0m\u001b[1;32m    291\u001b[0m         \u001b[0mself\u001b[0m\u001b[0;34m.\u001b[0m\u001b[0msession_id\u001b[0m \u001b[0;34m=\u001b[0m \u001b[0mresponse\u001b[0m\u001b[0;34m.\u001b[0m\u001b[0mget\u001b[0m\u001b[0;34m(\u001b[0m\u001b[0;34m\"sessionId\"\u001b[0m\u001b[0;34m)\u001b[0m\u001b[0;34m\u001b[0m\u001b[0;34m\u001b[0m\u001b[0m\n\u001b[1;32m    292\u001b[0m         \u001b[0mself\u001b[0m\u001b[0;34m.\u001b[0m\u001b[0mcaps\u001b[0m \u001b[0;34m=\u001b[0m \u001b[0mresponse\u001b[0m\u001b[0;34m.\u001b[0m\u001b[0mget\u001b[0m\u001b[0;34m(\u001b[0m\u001b[0;34m\"capabilities\"\u001b[0m\u001b[0;34m)\u001b[0m\u001b[0;34m\u001b[0m\u001b[0;34m\u001b[0m\u001b[0m\n",
      "\u001b[0;32m~/opt/anaconda3/lib/python3.9/site-packages/selenium/webdriver/remote/webdriver.py\u001b[0m in \u001b[0;36mexecute\u001b[0;34m(self, driver_command, params)\u001b[0m\n\u001b[1;32m    343\u001b[0m         \u001b[0mresponse\u001b[0m \u001b[0;34m=\u001b[0m \u001b[0mself\u001b[0m\u001b[0;34m.\u001b[0m\u001b[0mcommand_executor\u001b[0m\u001b[0;34m.\u001b[0m\u001b[0mexecute\u001b[0m\u001b[0;34m(\u001b[0m\u001b[0mdriver_command\u001b[0m\u001b[0;34m,\u001b[0m \u001b[0mparams\u001b[0m\u001b[0;34m)\u001b[0m\u001b[0;34m\u001b[0m\u001b[0;34m\u001b[0m\u001b[0m\n\u001b[1;32m    344\u001b[0m         \u001b[0;32mif\u001b[0m \u001b[0mresponse\u001b[0m\u001b[0;34m:\u001b[0m\u001b[0;34m\u001b[0m\u001b[0;34m\u001b[0m\u001b[0m\n\u001b[0;32m--> 345\u001b[0;31m             \u001b[0mself\u001b[0m\u001b[0;34m.\u001b[0m\u001b[0merror_handler\u001b[0m\u001b[0;34m.\u001b[0m\u001b[0mcheck_response\u001b[0m\u001b[0;34m(\u001b[0m\u001b[0mresponse\u001b[0m\u001b[0;34m)\u001b[0m\u001b[0;34m\u001b[0m\u001b[0;34m\u001b[0m\u001b[0m\n\u001b[0m\u001b[1;32m    346\u001b[0m             \u001b[0mresponse\u001b[0m\u001b[0;34m[\u001b[0m\u001b[0;34m\"value\"\u001b[0m\u001b[0;34m]\u001b[0m \u001b[0;34m=\u001b[0m \u001b[0mself\u001b[0m\u001b[0;34m.\u001b[0m\u001b[0m_unwrap_value\u001b[0m\u001b[0;34m(\u001b[0m\u001b[0mresponse\u001b[0m\u001b[0;34m.\u001b[0m\u001b[0mget\u001b[0m\u001b[0;34m(\u001b[0m\u001b[0;34m\"value\"\u001b[0m\u001b[0;34m,\u001b[0m \u001b[0;32mNone\u001b[0m\u001b[0;34m)\u001b[0m\u001b[0;34m)\u001b[0m\u001b[0;34m\u001b[0m\u001b[0;34m\u001b[0m\u001b[0m\n\u001b[1;32m    347\u001b[0m             \u001b[0;32mreturn\u001b[0m \u001b[0mresponse\u001b[0m\u001b[0;34m\u001b[0m\u001b[0;34m\u001b[0m\u001b[0m\n",
      "\u001b[0;32m~/opt/anaconda3/lib/python3.9/site-packages/selenium/webdriver/remote/errorhandler.py\u001b[0m in \u001b[0;36mcheck_response\u001b[0;34m(self, response)\u001b[0m\n\u001b[1;32m    227\u001b[0m                 \u001b[0malert_text\u001b[0m \u001b[0;34m=\u001b[0m \u001b[0mvalue\u001b[0m\u001b[0;34m[\u001b[0m\u001b[0;34m\"alert\"\u001b[0m\u001b[0;34m]\u001b[0m\u001b[0;34m.\u001b[0m\u001b[0mget\u001b[0m\u001b[0;34m(\u001b[0m\u001b[0;34m\"text\"\u001b[0m\u001b[0;34m)\u001b[0m\u001b[0;34m\u001b[0m\u001b[0;34m\u001b[0m\u001b[0m\n\u001b[1;32m    228\u001b[0m             \u001b[0;32mraise\u001b[0m \u001b[0mexception_class\u001b[0m\u001b[0;34m(\u001b[0m\u001b[0mmessage\u001b[0m\u001b[0;34m,\u001b[0m \u001b[0mscreen\u001b[0m\u001b[0;34m,\u001b[0m \u001b[0mstacktrace\u001b[0m\u001b[0;34m,\u001b[0m \u001b[0malert_text\u001b[0m\u001b[0;34m)\u001b[0m  \u001b[0;31m# type: ignore[call-arg]  # mypy is not smart enough here\u001b[0m\u001b[0;34m\u001b[0m\u001b[0;34m\u001b[0m\u001b[0m\n\u001b[0;32m--> 229\u001b[0;31m         \u001b[0;32mraise\u001b[0m \u001b[0mexception_class\u001b[0m\u001b[0;34m(\u001b[0m\u001b[0mmessage\u001b[0m\u001b[0;34m,\u001b[0m \u001b[0mscreen\u001b[0m\u001b[0;34m,\u001b[0m \u001b[0mstacktrace\u001b[0m\u001b[0;34m)\u001b[0m\u001b[0;34m\u001b[0m\u001b[0;34m\u001b[0m\u001b[0m\n\u001b[0m",
      "\u001b[0;31mInvalidArgumentException\u001b[0m: Message: binary is not a Firefox executable\n"
     ]
    }
   ],
   "source": [
    "#2048 ***\n",
    "\n",
    "from selenium import webdriver\n",
    "from selenium.webdriver.common.keys import Keys\n",
    "from selenium.webdriver.common.by import By\n",
    "browser = webdriver.Firefox()\n",
    "browser.get('https://gabrielecirulli.github.io/2048/')\n",
    "htmlElem = browser.find_element(By.TAG_NAME,'html')\n",
    "while True:\n",
    "\thtmlElem.send_keys(Keys.UP)\n",
    "\thtmlElem.send_keys(Keys.RIGHT)\n",
    "\thtmlElem.send_keys(Keys.DOWN)\n",
    "\thtmlElem.send_keys(Keys.LEFT)\n",
    "\n",
    "\n"
   ]
  },
  {
   "cell_type": "code",
   "execution_count": null,
   "id": "f26fbf46",
   "metadata": {},
   "outputs": [],
   "source": [
    "#Link Verification\n",
    "\n",
    "import bs4, os, requests\n",
    "\n",
    "search_request = 'cat'\n",
    "\n",
    "url = 'https://imgur.com/search?q=' + search_request\n",
    "os.makedirs('imgur', exist_ok=True)\n",
    "\n",
    "res = requests.get(url)\n",
    "res.raise_for_status()\n",
    "\n",
    "soup = bs4.BeautifulSoup(res.text, 'html.parser')\n",
    "div_w_cards = soup.select('div.cards > div > a > img')\n",
    "\n",
    "for i in range(3):\n",
    "    img = 'https:' + div_w_cards[i].get('src')\n",
    "    filename = search_request + str(i) + '.jpg'\n",
    "    file_path = '/Users/jvick/automate(LAST)/'\n",
    "    imageFile = open(os.path.join('/Users/jvick/automate(LAST)/imgur', filename), 'wb')        \n",
    "    imageFile.write(requests.get(img).content)\n",
    "    imageFile.close()\n",
    "                     \n",
    "print('Done')\n"
   ]
  },
  {
   "cell_type": "code",
   "execution_count": 37,
   "id": "7d692b20",
   "metadata": {},
   "outputs": [
    {
     "name": "stdout",
     "output_type": "stream",
     "text": [
      "A2:1\n",
      "A3:2\n",
      "A4:3\n",
      "A5:4\n",
      "A6:5\n",
      "A7:6\n",
      "B1:1\n",
      "C1:2\n",
      "D1:3\n",
      "E1:4\n",
      "F1:5\n",
      "G1:6\n",
      "<Cell 'Sheet'.B2>:1\n",
      "<Cell 'Sheet'.C2>:2\n",
      "<Cell 'Sheet'.D2>:6\n",
      "<Cell 'Sheet'.E2>:24\n",
      "<Cell 'Sheet'.F2>:120\n",
      "<Cell 'Sheet'.G2>:720\n"
     ]
    },
    {
     "ename": "ValueError",
     "evalue": "Invalid column index 0",
     "output_type": "error",
     "traceback": [
      "\u001b[0;31m---------------------------------------------------------------------------\u001b[0m",
      "\u001b[0;31mKeyError\u001b[0m                                  Traceback (most recent call last)",
      "\u001b[0;32m~/opt/anaconda3/lib/python3.9/site-packages/openpyxl/utils/cell.cpython-39-darwin.so\u001b[0m in \u001b[0;36mopenpyxl.utils.cell.get_column_letter\u001b[0;34m()\u001b[0m\n",
      "\u001b[0;31mKeyError\u001b[0m: 0",
      "\nDuring handling of the above exception, another exception occurred:\n",
      "\u001b[0;31mValueError\u001b[0m                                Traceback (most recent call last)",
      "\u001b[0;32m/var/folders/hv/lh26yv0n4xn5t1pvckq365c00000gn/T/ipykernel_92506/3394037554.py\u001b[0m in \u001b[0;36m<module>\u001b[0;34m\u001b[0m\n\u001b[1;32m     21\u001b[0m \u001b[0;32mfor\u001b[0m \u001b[0mrow\u001b[0m \u001b[0;32min\u001b[0m \u001b[0mrange\u001b[0m\u001b[0;34m(\u001b[0m\u001b[0;36m2\u001b[0m\u001b[0;34m,\u001b[0m \u001b[0mnumber\u001b[0m\u001b[0;34m+\u001b[0m\u001b[0;36m2\u001b[0m\u001b[0;34m)\u001b[0m\u001b[0;34m:\u001b[0m\u001b[0;34m\u001b[0m\u001b[0;34m\u001b[0m\u001b[0m\n\u001b[1;32m     22\u001b[0m     \u001b[0;32mfor\u001b[0m \u001b[0mcol\u001b[0m \u001b[0;32min\u001b[0m \u001b[0mrange\u001b[0m\u001b[0;34m(\u001b[0m\u001b[0;36m2\u001b[0m\u001b[0;34m,\u001b[0m \u001b[0mnumber\u001b[0m \u001b[0;34m+\u001b[0m\u001b[0;36m2\u001b[0m\u001b[0;34m)\u001b[0m\u001b[0;34m:\u001b[0m\u001b[0;34m\u001b[0m\u001b[0;34m\u001b[0m\u001b[0m\n\u001b[0;32m---> 23\u001b[0;31m         \u001b[0msheet\u001b[0m\u001b[0;34m[\u001b[0m\u001b[0mstr\u001b[0m\u001b[0;34m(\u001b[0m\u001b[0mget_column_letter\u001b[0m\u001b[0;34m(\u001b[0m\u001b[0mcol\u001b[0m\u001b[0;34m)\u001b[0m\u001b[0;34m)\u001b[0m \u001b[0;34m+\u001b[0m \u001b[0mstr\u001b[0m\u001b[0;34m(\u001b[0m\u001b[0mrow\u001b[0m\u001b[0;34m)\u001b[0m\u001b[0;34m]\u001b[0m \u001b[0;34m=\u001b[0m \u001b[0msheet\u001b[0m\u001b[0;34m[\u001b[0m\u001b[0mstr\u001b[0m\u001b[0;34m(\u001b[0m\u001b[0mget_column_letter\u001b[0m\u001b[0;34m(\u001b[0m\u001b[0mcol\u001b[0m\u001b[0;34m)\u001b[0m\u001b[0;34m)\u001b[0m \u001b[0;34m+\u001b[0m \u001b[0mstr\u001b[0m\u001b[0;34m(\u001b[0m\u001b[0mrow\u001b[0m\u001b[0;34m-\u001b[0m\u001b[0mbehind\u001b[0m\u001b[0;34m)\u001b[0m\u001b[0;34m]\u001b[0m\u001b[0;34m.\u001b[0m\u001b[0mvalue\u001b[0m \u001b[0;34m*\u001b[0m \u001b[0msheet\u001b[0m\u001b[0;34m[\u001b[0m\u001b[0mstr\u001b[0m\u001b[0;34m(\u001b[0m\u001b[0mget_column_letter\u001b[0m\u001b[0;34m(\u001b[0m\u001b[0mcol\u001b[0m \u001b[0;34m-\u001b[0m \u001b[0mbehind\u001b[0m\u001b[0;34m)\u001b[0m\u001b[0;34m)\u001b[0m \u001b[0;34m+\u001b[0m \u001b[0mstr\u001b[0m\u001b[0;34m(\u001b[0m\u001b[0mrow\u001b[0m\u001b[0;34m)\u001b[0m\u001b[0;34m]\u001b[0m\u001b[0;34m.\u001b[0m\u001b[0mvalue\u001b[0m\u001b[0;34m\u001b[0m\u001b[0;34m\u001b[0m\u001b[0m\n\u001b[0m\u001b[1;32m     24\u001b[0m         \u001b[0mvalues\u001b[0m \u001b[0;34m=\u001b[0m \u001b[0msheet\u001b[0m\u001b[0;34m[\u001b[0m\u001b[0mstr\u001b[0m\u001b[0;34m(\u001b[0m\u001b[0mget_column_letter\u001b[0m\u001b[0;34m(\u001b[0m\u001b[0mcol\u001b[0m\u001b[0;34m)\u001b[0m\u001b[0;34m)\u001b[0m \u001b[0;34m+\u001b[0m \u001b[0mstr\u001b[0m\u001b[0;34m(\u001b[0m\u001b[0mrow\u001b[0m\u001b[0;34m)\u001b[0m\u001b[0;34m]\u001b[0m\u001b[0;34m.\u001b[0m\u001b[0mvalue\u001b[0m\u001b[0;34m\u001b[0m\u001b[0;34m\u001b[0m\u001b[0m\n\u001b[1;32m     25\u001b[0m         \u001b[0mprint\u001b[0m\u001b[0;34m(\u001b[0m\u001b[0mstr\u001b[0m\u001b[0;34m(\u001b[0m\u001b[0msheet\u001b[0m\u001b[0;34m[\u001b[0m\u001b[0mstr\u001b[0m\u001b[0;34m(\u001b[0m\u001b[0mget_column_letter\u001b[0m\u001b[0;34m(\u001b[0m\u001b[0mcol\u001b[0m\u001b[0;34m)\u001b[0m\u001b[0;34m)\u001b[0m \u001b[0;34m+\u001b[0m \u001b[0mstr\u001b[0m\u001b[0;34m(\u001b[0m\u001b[0mrow\u001b[0m\u001b[0;34m)\u001b[0m\u001b[0;34m]\u001b[0m\u001b[0;34m)\u001b[0m \u001b[0;34m+\u001b[0m \u001b[0;34m\":\"\u001b[0m \u001b[0;34m+\u001b[0m \u001b[0mstr\u001b[0m\u001b[0;34m(\u001b[0m\u001b[0mvalues\u001b[0m\u001b[0;34m)\u001b[0m\u001b[0;34m)\u001b[0m\u001b[0;34m\u001b[0m\u001b[0;34m\u001b[0m\u001b[0m\n",
      "\u001b[0;32m~/opt/anaconda3/lib/python3.9/site-packages/openpyxl/utils/cell.cpython-39-darwin.so\u001b[0m in \u001b[0;36mopenpyxl.utils.cell.get_column_letter\u001b[0;34m()\u001b[0m\n",
      "\u001b[0;31mValueError\u001b[0m: Invalid column index 0"
     ]
    }
   ],
   "source": [
    "#Multiplication Table Maker\n",
    "import openpyxl\n",
    "from openpyxl.utils import get_column_letter, column_index_from_string\n",
    "\n",
    "number = 6\n",
    "\n",
    "wb = openpyxl.Workbook()\n",
    "sheet = wb.active\n",
    "\n",
    "\n",
    "for i in range(2, number + 2):  #First row\n",
    "    sheet['A' + str(i)] = i -1\n",
    "    print('A' + str(i) + ':' + str(sheet['A' + str(i)].value))\n",
    "    \n",
    "for i in range(2, number + 2): # First column\n",
    "    sheet[str(get_column_letter(i)) + str(1)] = i -1\n",
    "    print(str(get_column_letter(i)) + str(1) + \":\" +  str(sheet[str(get_column_letter(i)) + str(1)].value))\n",
    "    \n",
    "#Adding values in between\n",
    "behind = 1\n",
    "for row in range(2, number+2):\n",
    "    for col in range(2, number +2):\n",
    "        sheet[str(get_column_letter(col)) + str(row)] = sheet[str(get_column_letter(col)) + str(row-behind)].value * sheet[str(get_column_letter(col - behind)) + str(row)].value\n",
    "        values = sheet[str(get_column_letter(col)) + str(row)].value\n",
    "        print(str(sheet[str(get_column_letter(col)) + str(row)]) + \":\" + str(values))\n",
    "    behind+=1\n",
    "        \n",
    "        \n",
    "\n",
    "    "
   ]
  },
  {
   "cell_type": "code",
   "execution_count": 16,
   "id": "fe6d9b90",
   "metadata": {},
   "outputs": [
    {
     "ename": "AttributeError",
     "evalue": "'int' object has no attribute 'upper'",
     "output_type": "error",
     "traceback": [
      "\u001b[0;31m---------------------------------------------------------------------------\u001b[0m",
      "\u001b[0;31mAttributeError\u001b[0m                            Traceback (most recent call last)",
      "\u001b[0;32m/var/folders/hv/lh26yv0n4xn5t1pvckq365c00000gn/T/ipykernel_92506/1533951368.py\u001b[0m in \u001b[0;36m<module>\u001b[0;34m\u001b[0m\n\u001b[0;32m----> 1\u001b[0;31m \u001b[0mcolumn_index_from_string\u001b[0m\u001b[0;34m(\u001b[0m\u001b[0;36m3\u001b[0m\u001b[0;34m)\u001b[0m\u001b[0;34m\u001b[0m\u001b[0;34m\u001b[0m\u001b[0m\n\u001b[0m",
      "\u001b[0;32m~/opt/anaconda3/lib/python3.9/site-packages/openpyxl/utils/cell.cpython-39-darwin.so\u001b[0m in \u001b[0;36mopenpyxl.utils.cell.column_index_from_string\u001b[0;34m()\u001b[0m\n",
      "\u001b[0;31mAttributeError\u001b[0m: 'int' object has no attribute 'upper'"
     ]
    }
   ],
   "source": []
  },
  {
   "cell_type": "code",
   "execution_count": null,
   "id": "de259e59",
   "metadata": {},
   "outputs": [],
   "source": []
  }
 ],
 "metadata": {
  "kernelspec": {
   "display_name": "Python 3 (ipykernel)",
   "language": "python",
   "name": "python3"
  },
  "language_info": {
   "codemirror_mode": {
    "name": "ipython",
    "version": 3
   },
   "file_extension": ".py",
   "mimetype": "text/x-python",
   "name": "python",
   "nbconvert_exporter": "python",
   "pygments_lexer": "ipython3",
   "version": "3.9.13"
  }
 },
 "nbformat": 4,
 "nbformat_minor": 5
}
