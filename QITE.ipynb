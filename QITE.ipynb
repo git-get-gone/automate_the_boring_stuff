{
 "cells": [
  {
   "cell_type": "code",
   "execution_count": null,
   "id": "a66417ff",
   "metadata": {},
   "outputs": [],
   "source": [
    "import numpy as np \n",
    "\n",
    "state0 = [1,0] \n",
    "state1 = [0,1]\n",
    "Hamiltonian = [[\"E\",0],[]]\n",
    "\n",
    "vctr0 = np.array(state0) \n",
    "vctr1= np.array(state1) \n",
    "\n",
    "#Focus on the basis set of vectors \n"
   ]
  }
 ],
 "metadata": {
  "kernelspec": {
   "display_name": "Python 3 (ipykernel)",
   "language": "python",
   "name": "python3"
  },
  "language_info": {
   "codemirror_mode": {
    "name": "ipython",
    "version": 3
   },
   "file_extension": ".py",
   "mimetype": "text/x-python",
   "name": "python",
   "nbconvert_exporter": "python",
   "pygments_lexer": "ipython3",
   "version": "3.9.13"
  }
 },
 "nbformat": 4,
 "nbformat_minor": 5
}
